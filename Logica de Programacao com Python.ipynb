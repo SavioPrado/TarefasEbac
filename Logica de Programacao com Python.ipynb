{
  "nbformat": 4,
  "nbformat_minor": 0,
  "metadata": {
    "colab": {
      "provenance": []
    },
    "kernelspec": {
      "name": "python3",
      "display_name": "Python 3"
    },
    "language_info": {
      "name": "python"
    }
  },
  "cells": [
    {
      "cell_type": "code",
      "execution_count": 46,
      "metadata": {
        "colab": {
          "base_uri": "https://localhost:8080/"
        },
        "id": "skuezZS5jvFh",
        "outputId": "1f41418e-a790-48e7-c664-c3a2b7c2b4f0"
      },
      "outputs": [
        {
          "output_type": "stream",
          "name": "stdout",
          "text": [
            "Por favor, informe alguns números e para finalizar, digite '*'\n",
            "\n",
            "Digite o  1 o. número: \n",
            "7\n",
            "\n",
            "Digite o  2 o. número: \n",
            "15\n",
            "\n",
            "Digite o  3 o. número: \n",
            "52\n",
            "\n",
            "Digite o  4 o. número: \n",
            "*\n",
            "\n",
            "Foram lidos  3  números, sendo eles:  [7, 15, 52]\n",
            "\n",
            " A soma de todos os números é:  74\n",
            "\n",
            " A subtração do primeiro ( 7 ) e do último ( 52 ) número é:  -45\n",
            "\n",
            " A multiplicação de todos os números é:  5460\n",
            "\n",
            " O quadrado do segundo item ( 15 ) é:  225\n",
            "\n",
            "\n",
            " Quer saber a média dos números? Se sim, digite 'S'\n",
            "s\n",
            "\n",
            " A média dos números é:  24.666666666666668\n"
          ]
        }
      ],
      "source": [
        "# Imput das informações\n",
        "print(\"Por favor, informe alguns números e para finalizar, digite '*'\")\n",
        "\n",
        "# Inicialização de variáveis\n",
        "entrada = \"\"\n",
        "sequencia = 0\n",
        "numerosLidos = []\n",
        "\n",
        "# leitura dos campos\n",
        "# 1. Utilize o comando ‘input’ para receber ao menos 2 números de entrada do usuário;\n",
        "while True:\n",
        "  sequencia += 1\n",
        "  print(\"\\nDigite o \", sequencia,\"o. número: \")\n",
        "  entrada = input()\n",
        "  if entrada == \"*\":\n",
        "    break\n",
        "  else:\n",
        "    # 2. Converta os valores recebidos pelo usuário para número inteiro (int) ou ponto flutuante (float);\n",
        "    numerosLidos.append(int(entrada))\n",
        "\n",
        "if len(numerosLidos) == 1:\n",
        "  print(\"\\n É preciso que tenha no mínimo dois números. Digite mais um, sff:\")\n",
        "  entrada = input()\n",
        "  numerosLidos.append(int(entrada))\n",
        "\n",
        "\n",
        "print(\"\\nForam lidos \", len(numerosLidos), \" números, sendo eles: \", numerosLidos)\n",
        "\n",
        "sequencia = 0\n",
        "soma = 0\n",
        "subtracao = 0\n",
        "multiplicacao = 1\n",
        "exponenciacao = 1\n",
        "\n",
        "# 3. Implemente ao menos 4 operações matemáticas em seu código\n",
        "for sequencia in numerosLidos:\n",
        "  soma += sequencia\n",
        "  subtracao -= sequencia\n",
        "  multiplicacao *= sequencia\n",
        "  exponenciacao **= sequencia\n",
        "\n",
        "print(\"\\n A soma de todos os números é: \", soma)\n",
        "print(\"\\n A subtração do primeiro (\", numerosLidos[0], \") e do último (\", numerosLidos[-1], \") número é: \", (numerosLidos[0] - numerosLidos[-1]))\n",
        "print(\"\\n A multiplicação de todos os números é: \", multiplicacao)\n",
        "print(\"\\n O quadrado do segundo item (\", numerosLidos[1] ,\") é: \", (numerosLidos[1] ** 2))\n",
        "\n",
        "# 4. Adicione um laço de repetição ou uma condicional. Por exemplo: você pode permitir que o usuário escolha qual operação realizar ou criar um loop que permita ao usuário realizar várias operações consecutivas;\n",
        "resposta = \"\"\n",
        "print(\"\\n\\n Quer saber a média dos números? Se sim, digite 'S'\")\n",
        "resposta = input()\n",
        "if resposta == 'S' or resposta == 's':\n",
        "  # 5. Utilize o comando ‘print’ para exibir o resultado da operação matemática.\n",
        "  print(\"\\n A média dos números é: \", (soma / len(numerosLidos)))\n"
      ]
    }
  ]
}